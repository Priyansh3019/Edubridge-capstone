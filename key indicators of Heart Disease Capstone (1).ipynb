{
 "cells": [
  {
   "cell_type": "markdown",
   "id": "c12c89a2",
   "metadata": {},
   "source": [
    "# Import Libraries "
   ]
  },
  {
   "cell_type": "code",
   "execution_count": 1,
   "id": "adb5d38e",
   "metadata": {},
   "outputs": [],
   "source": [
    "import pandas as pd\n",
    "import numpy as np\n",
    "import matplotlib.pyplot as plt\n",
    "import seaborn as sns\n",
    "import os\n",
    "import warnings\n",
    "warnings.filterwarnings(\"ignore\")"
   ]
  },
  {
   "cell_type": "code",
   "execution_count": 2,
   "id": "462966a8",
   "metadata": {
    "scrolled": true
   },
   "outputs": [
    {
     "data": {
      "text/html": [
       "<div>\n",
       "<style scoped>\n",
       "    .dataframe tbody tr th:only-of-type {\n",
       "        vertical-align: middle;\n",
       "    }\n",
       "\n",
       "    .dataframe tbody tr th {\n",
       "        vertical-align: top;\n",
       "    }\n",
       "\n",
       "    .dataframe thead th {\n",
       "        text-align: right;\n",
       "    }\n",
       "</style>\n",
       "<table border=\"1\" class=\"dataframe\">\n",
       "  <thead>\n",
       "    <tr style=\"text-align: right;\">\n",
       "      <th></th>\n",
       "      <th>HeartDisease</th>\n",
       "      <th>BMI</th>\n",
       "      <th>Smoking</th>\n",
       "      <th>AlcoholDrinking</th>\n",
       "      <th>Stroke</th>\n",
       "      <th>PhysicalHealth</th>\n",
       "      <th>MentalHealth</th>\n",
       "      <th>DiffWalking</th>\n",
       "      <th>Sex</th>\n",
       "      <th>AgeCategory</th>\n",
       "      <th>Race</th>\n",
       "      <th>Diabetic</th>\n",
       "      <th>PhysicalActivity</th>\n",
       "      <th>GenHealth</th>\n",
       "      <th>SleepTime</th>\n",
       "      <th>Asthma</th>\n",
       "      <th>KidneyDisease</th>\n",
       "      <th>SkinCancer</th>\n",
       "    </tr>\n",
       "  </thead>\n",
       "  <tbody>\n",
       "    <tr>\n",
       "      <th>0</th>\n",
       "      <td>No</td>\n",
       "      <td>16.60</td>\n",
       "      <td>Yes</td>\n",
       "      <td>No</td>\n",
       "      <td>No</td>\n",
       "      <td>3</td>\n",
       "      <td>30</td>\n",
       "      <td>No</td>\n",
       "      <td>Female</td>\n",
       "      <td>55-59</td>\n",
       "      <td>White</td>\n",
       "      <td>Yes</td>\n",
       "      <td>Yes</td>\n",
       "      <td>Very good</td>\n",
       "      <td>5</td>\n",
       "      <td>Yes</td>\n",
       "      <td>No</td>\n",
       "      <td>Yes</td>\n",
       "    </tr>\n",
       "    <tr>\n",
       "      <th>1</th>\n",
       "      <td>No</td>\n",
       "      <td>20.34</td>\n",
       "      <td>No</td>\n",
       "      <td>No</td>\n",
       "      <td>Yes</td>\n",
       "      <td>0</td>\n",
       "      <td>0</td>\n",
       "      <td>No</td>\n",
       "      <td>Female</td>\n",
       "      <td>80 or older</td>\n",
       "      <td>White</td>\n",
       "      <td>No</td>\n",
       "      <td>Yes</td>\n",
       "      <td>Very good</td>\n",
       "      <td>7</td>\n",
       "      <td>No</td>\n",
       "      <td>No</td>\n",
       "      <td>No</td>\n",
       "    </tr>\n",
       "    <tr>\n",
       "      <th>2</th>\n",
       "      <td>No</td>\n",
       "      <td>26.58</td>\n",
       "      <td>Yes</td>\n",
       "      <td>No</td>\n",
       "      <td>No</td>\n",
       "      <td>20</td>\n",
       "      <td>30</td>\n",
       "      <td>No</td>\n",
       "      <td>Male</td>\n",
       "      <td>65-69</td>\n",
       "      <td>White</td>\n",
       "      <td>Yes</td>\n",
       "      <td>Yes</td>\n",
       "      <td>Fair</td>\n",
       "      <td>8</td>\n",
       "      <td>Yes</td>\n",
       "      <td>No</td>\n",
       "      <td>No</td>\n",
       "    </tr>\n",
       "    <tr>\n",
       "      <th>3</th>\n",
       "      <td>No</td>\n",
       "      <td>24.21</td>\n",
       "      <td>No</td>\n",
       "      <td>No</td>\n",
       "      <td>No</td>\n",
       "      <td>0</td>\n",
       "      <td>0</td>\n",
       "      <td>No</td>\n",
       "      <td>Female</td>\n",
       "      <td>75-79</td>\n",
       "      <td>White</td>\n",
       "      <td>No</td>\n",
       "      <td>No</td>\n",
       "      <td>Good</td>\n",
       "      <td>6</td>\n",
       "      <td>No</td>\n",
       "      <td>No</td>\n",
       "      <td>Yes</td>\n",
       "    </tr>\n",
       "    <tr>\n",
       "      <th>4</th>\n",
       "      <td>No</td>\n",
       "      <td>23.71</td>\n",
       "      <td>No</td>\n",
       "      <td>No</td>\n",
       "      <td>No</td>\n",
       "      <td>28</td>\n",
       "      <td>0</td>\n",
       "      <td>Yes</td>\n",
       "      <td>Female</td>\n",
       "      <td>40-44</td>\n",
       "      <td>White</td>\n",
       "      <td>No</td>\n",
       "      <td>Yes</td>\n",
       "      <td>Very good</td>\n",
       "      <td>8</td>\n",
       "      <td>No</td>\n",
       "      <td>No</td>\n",
       "      <td>No</td>\n",
       "    </tr>\n",
       "  </tbody>\n",
       "</table>\n",
       "</div>"
      ],
      "text/plain": [
       "  HeartDisease    BMI Smoking AlcoholDrinking Stroke  PhysicalHealth  \\\n",
       "0           No  16.60     Yes              No     No               3   \n",
       "1           No  20.34      No              No    Yes               0   \n",
       "2           No  26.58     Yes              No     No              20   \n",
       "3           No  24.21      No              No     No               0   \n",
       "4           No  23.71      No              No     No              28   \n",
       "\n",
       "   MentalHealth DiffWalking     Sex  AgeCategory   Race Diabetic  \\\n",
       "0            30          No  Female        55-59  White      Yes   \n",
       "1             0          No  Female  80 or older  White       No   \n",
       "2            30          No    Male        65-69  White      Yes   \n",
       "3             0          No  Female        75-79  White       No   \n",
       "4             0         Yes  Female        40-44  White       No   \n",
       "\n",
       "  PhysicalActivity  GenHealth  SleepTime Asthma KidneyDisease SkinCancer  \n",
       "0              Yes  Very good          5    Yes            No        Yes  \n",
       "1              Yes  Very good          7     No            No         No  \n",
       "2              Yes       Fair          8    Yes            No         No  \n",
       "3               No       Good          6     No            No        Yes  \n",
       "4              Yes  Very good          8     No            No         No  "
      ]
     },
     "execution_count": 2,
     "metadata": {},
     "output_type": "execute_result"
    }
   ],
   "source": [
    "df = pd.read_csv('my file.csv')\n",
    "df.head()"
   ]
  },
  {
   "cell_type": "code",
   "execution_count": 3,
   "id": "ea06536f",
   "metadata": {},
   "outputs": [
    {
     "data": {
      "text/plain": [
       "<bound method DataFrame.info of        HeartDisease    BMI Smoking AlcoholDrinking Stroke  PhysicalHealth  \\\n",
       "0                No  16.60     Yes              No     No               3   \n",
       "1                No  20.34      No              No    Yes               0   \n",
       "2                No  26.58     Yes              No     No              20   \n",
       "3                No  24.21      No              No     No               0   \n",
       "4                No  23.71      No              No     No              28   \n",
       "...             ...    ...     ...             ...    ...             ...   \n",
       "319790          Yes  27.41     Yes              No     No               7   \n",
       "319791           No  29.84     Yes              No     No               0   \n",
       "319792           No  24.24      No              No     No               0   \n",
       "319793           No  32.81      No              No     No               0   \n",
       "319794           No  46.56      No              No     No               0   \n",
       "\n",
       "        MentalHealth DiffWalking     Sex  AgeCategory      Race Diabetic  \\\n",
       "0                 30          No  Female        55-59     White      Yes   \n",
       "1                  0          No  Female  80 or older     White       No   \n",
       "2                 30          No    Male        65-69     White      Yes   \n",
       "3                  0          No  Female        75-79     White       No   \n",
       "4                  0         Yes  Female        40-44     White       No   \n",
       "...              ...         ...     ...          ...       ...      ...   \n",
       "319790             0         Yes    Male        60-64  Hispanic      Yes   \n",
       "319791             0          No    Male        35-39  Hispanic       No   \n",
       "319792             0          No  Female        45-49  Hispanic       No   \n",
       "319793             0          No  Female        25-29  Hispanic       No   \n",
       "319794             0          No  Female  80 or older  Hispanic       No   \n",
       "\n",
       "       PhysicalActivity  GenHealth  SleepTime Asthma KidneyDisease SkinCancer  \n",
       "0                   Yes  Very good          5    Yes            No        Yes  \n",
       "1                   Yes  Very good          7     No            No         No  \n",
       "2                   Yes       Fair          8    Yes            No         No  \n",
       "3                    No       Good          6     No            No        Yes  \n",
       "4                   Yes  Very good          8     No            No         No  \n",
       "...                 ...        ...        ...    ...           ...        ...  \n",
       "319790               No       Fair          6    Yes            No         No  \n",
       "319791              Yes  Very good          5    Yes            No         No  \n",
       "319792              Yes       Good          6     No            No         No  \n",
       "319793               No       Good         12     No            No         No  \n",
       "319794              Yes       Good          8     No            No         No  \n",
       "\n",
       "[319795 rows x 18 columns]>"
      ]
     },
     "execution_count": 3,
     "metadata": {},
     "output_type": "execute_result"
    }
   ],
   "source": [
    "df.info"
   ]
  },
  {
   "cell_type": "code",
   "execution_count": 4,
   "id": "4c4faa83",
   "metadata": {},
   "outputs": [
    {
     "name": "stdout",
     "output_type": "stream",
     "text": [
      "<class 'pandas.core.frame.DataFrame'>\n",
      "Int64Index: 301717 entries, 0 to 319794\n",
      "Data columns (total 18 columns):\n",
      " #   Column            Non-Null Count   Dtype  \n",
      "---  ------            --------------   -----  \n",
      " 0   HeartDisease      301717 non-null  object \n",
      " 1   BMI               301717 non-null  float64\n",
      " 2   Smoking           301717 non-null  object \n",
      " 3   AlcoholDrinking   301717 non-null  object \n",
      " 4   Stroke            301717 non-null  object \n",
      " 5   PhysicalHealth    301717 non-null  int64  \n",
      " 6   MentalHealth      301717 non-null  int64  \n",
      " 7   DiffWalking       301717 non-null  object \n",
      " 8   Sex               301717 non-null  object \n",
      " 9   AgeCategory       301717 non-null  object \n",
      " 10  Race              301717 non-null  object \n",
      " 11  Diabetic          301717 non-null  object \n",
      " 12  PhysicalActivity  301717 non-null  object \n",
      " 13  GenHealth         301717 non-null  object \n",
      " 14  SleepTime         301717 non-null  int64  \n",
      " 15  Asthma            301717 non-null  object \n",
      " 16  KidneyDisease     301717 non-null  object \n",
      " 17  SkinCancer        301717 non-null  object \n",
      "dtypes: float64(1), int64(3), object(14)\n",
      "memory usage: 43.7+ MB\n"
     ]
    }
   ],
   "source": [
    "df=df.drop_duplicates()\n",
    "df.info()"
   ]
  },
  {
   "cell_type": "code",
   "execution_count": 5,
   "id": "c17b0e2f",
   "metadata": {},
   "outputs": [
    {
     "data": {
      "text/html": [
       "<div>\n",
       "<style scoped>\n",
       "    .dataframe tbody tr th:only-of-type {\n",
       "        vertical-align: middle;\n",
       "    }\n",
       "\n",
       "    .dataframe tbody tr th {\n",
       "        vertical-align: top;\n",
       "    }\n",
       "\n",
       "    .dataframe thead th {\n",
       "        text-align: right;\n",
       "    }\n",
       "</style>\n",
       "<table border=\"1\" class=\"dataframe\">\n",
       "  <thead>\n",
       "    <tr style=\"text-align: right;\">\n",
       "      <th></th>\n",
       "      <th>HeartDisease</th>\n",
       "      <th>BMI</th>\n",
       "      <th>Smoking</th>\n",
       "      <th>AlcoholDrinking</th>\n",
       "      <th>Stroke</th>\n",
       "      <th>PhysicalHealth</th>\n",
       "      <th>MentalHealth</th>\n",
       "      <th>DiffWalking</th>\n",
       "      <th>Sex</th>\n",
       "      <th>AgeCategory</th>\n",
       "      <th>Race</th>\n",
       "      <th>Diabetic</th>\n",
       "      <th>PhysicalActivity</th>\n",
       "      <th>GenHealth</th>\n",
       "      <th>SleepTime</th>\n",
       "      <th>Asthma</th>\n",
       "      <th>KidneyDisease</th>\n",
       "      <th>SkinCancer</th>\n",
       "    </tr>\n",
       "  </thead>\n",
       "  <tbody>\n",
       "    <tr>\n",
       "      <th>0</th>\n",
       "      <td>False</td>\n",
       "      <td>False</td>\n",
       "      <td>False</td>\n",
       "      <td>False</td>\n",
       "      <td>False</td>\n",
       "      <td>False</td>\n",
       "      <td>False</td>\n",
       "      <td>False</td>\n",
       "      <td>False</td>\n",
       "      <td>False</td>\n",
       "      <td>False</td>\n",
       "      <td>False</td>\n",
       "      <td>False</td>\n",
       "      <td>False</td>\n",
       "      <td>False</td>\n",
       "      <td>False</td>\n",
       "      <td>False</td>\n",
       "      <td>False</td>\n",
       "    </tr>\n",
       "    <tr>\n",
       "      <th>1</th>\n",
       "      <td>False</td>\n",
       "      <td>False</td>\n",
       "      <td>False</td>\n",
       "      <td>False</td>\n",
       "      <td>False</td>\n",
       "      <td>False</td>\n",
       "      <td>False</td>\n",
       "      <td>False</td>\n",
       "      <td>False</td>\n",
       "      <td>False</td>\n",
       "      <td>False</td>\n",
       "      <td>False</td>\n",
       "      <td>False</td>\n",
       "      <td>False</td>\n",
       "      <td>False</td>\n",
       "      <td>False</td>\n",
       "      <td>False</td>\n",
       "      <td>False</td>\n",
       "    </tr>\n",
       "    <tr>\n",
       "      <th>2</th>\n",
       "      <td>False</td>\n",
       "      <td>False</td>\n",
       "      <td>False</td>\n",
       "      <td>False</td>\n",
       "      <td>False</td>\n",
       "      <td>False</td>\n",
       "      <td>False</td>\n",
       "      <td>False</td>\n",
       "      <td>False</td>\n",
       "      <td>False</td>\n",
       "      <td>False</td>\n",
       "      <td>False</td>\n",
       "      <td>False</td>\n",
       "      <td>False</td>\n",
       "      <td>False</td>\n",
       "      <td>False</td>\n",
       "      <td>False</td>\n",
       "      <td>False</td>\n",
       "    </tr>\n",
       "    <tr>\n",
       "      <th>3</th>\n",
       "      <td>False</td>\n",
       "      <td>False</td>\n",
       "      <td>False</td>\n",
       "      <td>False</td>\n",
       "      <td>False</td>\n",
       "      <td>False</td>\n",
       "      <td>False</td>\n",
       "      <td>False</td>\n",
       "      <td>False</td>\n",
       "      <td>False</td>\n",
       "      <td>False</td>\n",
       "      <td>False</td>\n",
       "      <td>False</td>\n",
       "      <td>False</td>\n",
       "      <td>False</td>\n",
       "      <td>False</td>\n",
       "      <td>False</td>\n",
       "      <td>False</td>\n",
       "    </tr>\n",
       "    <tr>\n",
       "      <th>4</th>\n",
       "      <td>False</td>\n",
       "      <td>False</td>\n",
       "      <td>False</td>\n",
       "      <td>False</td>\n",
       "      <td>False</td>\n",
       "      <td>False</td>\n",
       "      <td>False</td>\n",
       "      <td>False</td>\n",
       "      <td>False</td>\n",
       "      <td>False</td>\n",
       "      <td>False</td>\n",
       "      <td>False</td>\n",
       "      <td>False</td>\n",
       "      <td>False</td>\n",
       "      <td>False</td>\n",
       "      <td>False</td>\n",
       "      <td>False</td>\n",
       "      <td>False</td>\n",
       "    </tr>\n",
       "    <tr>\n",
       "      <th>...</th>\n",
       "      <td>...</td>\n",
       "      <td>...</td>\n",
       "      <td>...</td>\n",
       "      <td>...</td>\n",
       "      <td>...</td>\n",
       "      <td>...</td>\n",
       "      <td>...</td>\n",
       "      <td>...</td>\n",
       "      <td>...</td>\n",
       "      <td>...</td>\n",
       "      <td>...</td>\n",
       "      <td>...</td>\n",
       "      <td>...</td>\n",
       "      <td>...</td>\n",
       "      <td>...</td>\n",
       "      <td>...</td>\n",
       "      <td>...</td>\n",
       "      <td>...</td>\n",
       "    </tr>\n",
       "    <tr>\n",
       "      <th>319790</th>\n",
       "      <td>False</td>\n",
       "      <td>False</td>\n",
       "      <td>False</td>\n",
       "      <td>False</td>\n",
       "      <td>False</td>\n",
       "      <td>False</td>\n",
       "      <td>False</td>\n",
       "      <td>False</td>\n",
       "      <td>False</td>\n",
       "      <td>False</td>\n",
       "      <td>False</td>\n",
       "      <td>False</td>\n",
       "      <td>False</td>\n",
       "      <td>False</td>\n",
       "      <td>False</td>\n",
       "      <td>False</td>\n",
       "      <td>False</td>\n",
       "      <td>False</td>\n",
       "    </tr>\n",
       "    <tr>\n",
       "      <th>319791</th>\n",
       "      <td>False</td>\n",
       "      <td>False</td>\n",
       "      <td>False</td>\n",
       "      <td>False</td>\n",
       "      <td>False</td>\n",
       "      <td>False</td>\n",
       "      <td>False</td>\n",
       "      <td>False</td>\n",
       "      <td>False</td>\n",
       "      <td>False</td>\n",
       "      <td>False</td>\n",
       "      <td>False</td>\n",
       "      <td>False</td>\n",
       "      <td>False</td>\n",
       "      <td>False</td>\n",
       "      <td>False</td>\n",
       "      <td>False</td>\n",
       "      <td>False</td>\n",
       "    </tr>\n",
       "    <tr>\n",
       "      <th>319792</th>\n",
       "      <td>False</td>\n",
       "      <td>False</td>\n",
       "      <td>False</td>\n",
       "      <td>False</td>\n",
       "      <td>False</td>\n",
       "      <td>False</td>\n",
       "      <td>False</td>\n",
       "      <td>False</td>\n",
       "      <td>False</td>\n",
       "      <td>False</td>\n",
       "      <td>False</td>\n",
       "      <td>False</td>\n",
       "      <td>False</td>\n",
       "      <td>False</td>\n",
       "      <td>False</td>\n",
       "      <td>False</td>\n",
       "      <td>False</td>\n",
       "      <td>False</td>\n",
       "    </tr>\n",
       "    <tr>\n",
       "      <th>319793</th>\n",
       "      <td>False</td>\n",
       "      <td>False</td>\n",
       "      <td>False</td>\n",
       "      <td>False</td>\n",
       "      <td>False</td>\n",
       "      <td>False</td>\n",
       "      <td>False</td>\n",
       "      <td>False</td>\n",
       "      <td>False</td>\n",
       "      <td>False</td>\n",
       "      <td>False</td>\n",
       "      <td>False</td>\n",
       "      <td>False</td>\n",
       "      <td>False</td>\n",
       "      <td>False</td>\n",
       "      <td>False</td>\n",
       "      <td>False</td>\n",
       "      <td>False</td>\n",
       "    </tr>\n",
       "    <tr>\n",
       "      <th>319794</th>\n",
       "      <td>False</td>\n",
       "      <td>False</td>\n",
       "      <td>False</td>\n",
       "      <td>False</td>\n",
       "      <td>False</td>\n",
       "      <td>False</td>\n",
       "      <td>False</td>\n",
       "      <td>False</td>\n",
       "      <td>False</td>\n",
       "      <td>False</td>\n",
       "      <td>False</td>\n",
       "      <td>False</td>\n",
       "      <td>False</td>\n",
       "      <td>False</td>\n",
       "      <td>False</td>\n",
       "      <td>False</td>\n",
       "      <td>False</td>\n",
       "      <td>False</td>\n",
       "    </tr>\n",
       "  </tbody>\n",
       "</table>\n",
       "<p>301717 rows × 18 columns</p>\n",
       "</div>"
      ],
      "text/plain": [
       "        HeartDisease    BMI  Smoking  AlcoholDrinking  Stroke  PhysicalHealth  \\\n",
       "0              False  False    False            False   False           False   \n",
       "1              False  False    False            False   False           False   \n",
       "2              False  False    False            False   False           False   \n",
       "3              False  False    False            False   False           False   \n",
       "4              False  False    False            False   False           False   \n",
       "...              ...    ...      ...              ...     ...             ...   \n",
       "319790         False  False    False            False   False           False   \n",
       "319791         False  False    False            False   False           False   \n",
       "319792         False  False    False            False   False           False   \n",
       "319793         False  False    False            False   False           False   \n",
       "319794         False  False    False            False   False           False   \n",
       "\n",
       "        MentalHealth  DiffWalking    Sex  AgeCategory   Race  Diabetic  \\\n",
       "0              False        False  False        False  False     False   \n",
       "1              False        False  False        False  False     False   \n",
       "2              False        False  False        False  False     False   \n",
       "3              False        False  False        False  False     False   \n",
       "4              False        False  False        False  False     False   \n",
       "...              ...          ...    ...          ...    ...       ...   \n",
       "319790         False        False  False        False  False     False   \n",
       "319791         False        False  False        False  False     False   \n",
       "319792         False        False  False        False  False     False   \n",
       "319793         False        False  False        False  False     False   \n",
       "319794         False        False  False        False  False     False   \n",
       "\n",
       "        PhysicalActivity  GenHealth  SleepTime  Asthma  KidneyDisease  \\\n",
       "0                  False      False      False   False          False   \n",
       "1                  False      False      False   False          False   \n",
       "2                  False      False      False   False          False   \n",
       "3                  False      False      False   False          False   \n",
       "4                  False      False      False   False          False   \n",
       "...                  ...        ...        ...     ...            ...   \n",
       "319790             False      False      False   False          False   \n",
       "319791             False      False      False   False          False   \n",
       "319792             False      False      False   False          False   \n",
       "319793             False      False      False   False          False   \n",
       "319794             False      False      False   False          False   \n",
       "\n",
       "        SkinCancer  \n",
       "0            False  \n",
       "1            False  \n",
       "2            False  \n",
       "3            False  \n",
       "4            False  \n",
       "...            ...  \n",
       "319790       False  \n",
       "319791       False  \n",
       "319792       False  \n",
       "319793       False  \n",
       "319794       False  \n",
       "\n",
       "[301717 rows x 18 columns]"
      ]
     },
     "execution_count": 5,
     "metadata": {},
     "output_type": "execute_result"
    }
   ],
   "source": [
    "df.isnull()"
   ]
  },
  {
   "cell_type": "code",
   "execution_count": 6,
   "id": "b94cb236",
   "metadata": {},
   "outputs": [
    {
     "data": {
      "text/plain": [
       "HeartDisease        0\n",
       "BMI                 0\n",
       "Smoking             0\n",
       "AlcoholDrinking     0\n",
       "Stroke              0\n",
       "PhysicalHealth      0\n",
       "MentalHealth        0\n",
       "DiffWalking         0\n",
       "Sex                 0\n",
       "AgeCategory         0\n",
       "Race                0\n",
       "Diabetic            0\n",
       "PhysicalActivity    0\n",
       "GenHealth           0\n",
       "SleepTime           0\n",
       "Asthma              0\n",
       "KidneyDisease       0\n",
       "SkinCancer          0\n",
       "dtype: int64"
      ]
     },
     "execution_count": 6,
     "metadata": {},
     "output_type": "execute_result"
    }
   ],
   "source": [
    "df.isnull().sum()"
   ]
  },
  {
   "cell_type": "code",
   "execution_count": 7,
   "id": "72cd9b3e",
   "metadata": {},
   "outputs": [
    {
     "name": "stdout",
     "output_type": "stream",
     "text": [
      "<class 'pandas.core.frame.DataFrame'>\n",
      "Int64Index: 301717 entries, 0 to 319794\n",
      "Data columns (total 18 columns):\n",
      " #   Column            Non-Null Count   Dtype  \n",
      "---  ------            --------------   -----  \n",
      " 0   HeartDisease      301717 non-null  object \n",
      " 1   BMI               301717 non-null  float64\n",
      " 2   Smoking           301717 non-null  object \n",
      " 3   AlcoholDrinking   301717 non-null  object \n",
      " 4   Stroke            301717 non-null  object \n",
      " 5   PhysicalHealth    301717 non-null  int64  \n",
      " 6   MentalHealth      301717 non-null  int64  \n",
      " 7   DiffWalking       301717 non-null  object \n",
      " 8   Sex               301717 non-null  object \n",
      " 9   AgeCategory       301717 non-null  object \n",
      " 10  Race              301717 non-null  object \n",
      " 11  Diabetic          301717 non-null  object \n",
      " 12  PhysicalActivity  301717 non-null  object \n",
      " 13  GenHealth         301717 non-null  object \n",
      " 14  SleepTime         301717 non-null  int64  \n",
      " 15  Asthma            301717 non-null  object \n",
      " 16  KidneyDisease     301717 non-null  object \n",
      " 17  SkinCancer        301717 non-null  object \n",
      "dtypes: float64(1), int64(3), object(14)\n",
      "memory usage: 43.7+ MB\n",
      "None\n"
     ]
    }
   ],
   "source": [
    "print(df.info())"
   ]
  },
  {
   "cell_type": "markdown",
   "id": "bfebae65",
   "metadata": {},
   "source": [
    "# Data Understanding by Visualization and EDA"
   ]
  },
  {
   "cell_type": "code",
   "execution_count": 8,
   "id": "ee05ae0f",
   "metadata": {},
   "outputs": [
    {
     "data": {
      "image/png": "[encoded data removed]",
      "text/plain": [
       "<Figure size 1152x576 with 3 Axes>"
      ]
     },
     "metadata": {},
     "output_type": "display_data"
    }
   ],
   "source": [
    "sns.set(style=\"darkgrid\")\n",
    "sns.set(rc={'figure.figsize':(16,8)})\n",
    " \n",
    "\n",
    "f, (ax_box1, ax_box2, ax_hist) = plt.subplots(3, sharex=True, gridspec_kw={\"height_ratios\": (.15, .15, .85)})\n",
    "colours = ['Red', 'Blue', '#fbbc05', '#34a853']\n",
    "\n",
    "sns.boxplot(x=df[df['HeartDisease']=='Yes'][\"BMI\"], ax=ax_box1, color=\"Blue\")\n",
    "sns.histplot(df[df['HeartDisease']=='Yes'], x=\"BMI\", ax=ax_hist, kde=True, color=\"Blue\")\n",
    "\n",
    "sns.boxplot(x=df[df['HeartDisease']=='No'][\"BMI\"], ax=ax_box2, color='Red')\n",
    "sns.histplot(df[df['HeartDisease']=='No'], x=\"BMI\", ax=ax_hist, kde=True, color='Red')\n",
    " \n",
    "\n",
    "ax_box1.set(xlabel='')\n",
    "ax_box2.set(xlabel='')\n",
    "\n",
    "plt.legend(title='', loc=2, labels=['Heart Disease', 'No HeartDisease'],bbox_to_anchor=(1.02, 1), borderaxespad=0.)\n",
    "plt.show()"
   ]
  },
  {
   "cell_type": "code",
   "execution_count": 9,
   "id": "628dce79",
   "metadata": {},
   "outputs": [
    {
     "data": {
      "image/png": "[encoded data removed]",
      "text/plain": [
       "<Figure size 936x360 with 1 Axes>"
      ]
     },
     "metadata": {},
     "output_type": "display_data"
    }
   ],
   "source": [
    "fig, ax = plt.subplots(figsize = (13,5))\n",
    "sns.kdeplot(df[df[\"HeartDisease\"]=='No'][\"SleepTime\"], alpha=0.5,shade = True, color=\"Blue\", label=\"No HeartDisease\", ax = ax)\n",
    "sns.kdeplot(df[df[\"HeartDisease\"]=='Yes'][\"SleepTime\"], alpha=0.5,shade = True, color=\"Red\", label=\"HeartDisease\", ax = ax)\n",
    "ax.set_xlabel(\"SleepTime\")\n",
    "ax.set_ylabel(\"Frequency\")\n",
    "ax.legend(bbox_to_anchor=(1.02, 1), loc=2, borderaxespad=0.)\n",
    "plt.show()"
   ]
  },
  {
   "cell_type": "code",
   "execution_count": 10,
   "id": "c5c498d9",
   "metadata": {},
   "outputs": [
    {
     "data": {
      "image/png": "[encoded data removed]",
      "text/plain": [
       "<Figure size 936x360 with 1 Axes>"
      ]
     },
     "metadata": {},
     "output_type": "display_data"
    }
   ],
   "source": [
    "fig, ax = plt.subplots(figsize = (13,5))\n",
    "sns.kdeplot(df[df[\"HeartDisease\"]=='No'][\"MentalHealth\"], alpha=0.5,shade = True, color=\"blue\", label=\"No HeartDisease\", ax = ax)\n",
    "sns.kdeplot(df[df[\"HeartDisease\"]=='Yes'][\"MentalHealth\"], alpha=0.5,shade = True, color=\"Red\", label=\"HeartDisease\", ax = ax)\n",
    "ax.set_xlabel(\"MentalHealth\")\n",
    "ax.set_ylabel(\"Frequency\")\n",
    "ax.legend(bbox_to_anchor=(1.02, 1), loc=2, borderaxespad=0.)\n",
    "plt.show()"
   ]
  },
  {
   "cell_type": "code",
   "execution_count": 11,
   "id": "776e517b",
   "metadata": {},
   "outputs": [
    {
     "data": {
      "image/png": "[encoded data removed]",
      "text/plain": [
       "<Figure size 936x360 with 1 Axes>"
      ]
     },
     "metadata": {},
     "output_type": "display_data"
    }
   ],
   "source": [
    "fig, ax = plt.subplots(figsize = (13,5))\n",
    "sns.kdeplot(df[df[\"HeartDisease\"]=='No'][\"PhysicalHealth\"], alpha=0.5,shade = True, color=\"Blue\", label=\"No HeartDisease\", ax = ax)\n",
    "sns.kdeplot(df[df[\"HeartDisease\"]=='Yes'][\"PhysicalHealth\"], alpha=0.5,shade = True, color=\"Red\", label=\"HeartDisease\", ax = ax)\n",
    "ax.set_xlabel(\"PhysicalHealth\")\n",
    "ax.set_ylabel(\"Frequency\")\n",
    "ax.legend(bbox_to_anchor=(1.02, 1), loc=2, borderaxespad=0.)\n",
    "plt.show()"
   ]
  },
  {
   "cell_type": "code",
   "execution_count": 12,
   "id": "01385416",
   "metadata": {},
   "outputs": [
    {
     "data": {
      "text/plain": [
       "<matplotlib.legend.Legend at 0x29092723b80>"
      ]
     },
     "execution_count": 12,
     "metadata": {},
     "output_type": "execute_result"
    },
    {
     "data": {
      "image/png": "[encoded data removed]",
      "text/plain": [
       "<Figure size 720x432 with 1 Axes>"
      ]
     },
     "metadata": {},
     "output_type": "display_data"
    }
   ],
   "source": [
    "fig, ax = plt.subplots(figsize = (10,6))\n",
    "\n",
    "ax.hist(df[df[\"HeartDisease\"]=='No'][\"Sex\"], bins=3, alpha=0.8, color=\"Green\", label=\"No HeartDisease\")\n",
    "ax.hist(df[df[\"HeartDisease\"]=='Yes'][\"Sex\"], bins=3, alpha=1, color=\"Pink\", label=\"HeartDisease\")\n",
    "\n",
    "ax.set_xlabel(\"Sex\")\n",
    "ax.set_ylabel(\"Frequency\")\n",
    "\n",
    "ax.legend(bbox_to_anchor=(1.02, 1), loc=2, borderaxespad=0.)"
   ]
  },
  {
   "cell_type": "code",
   "execution_count": 13,
   "id": "9384f7e3",
   "metadata": {},
   "outputs": [
    {
     "name": "stdout",
     "output_type": "stream",
     "text": [
      "Probability of Male to have Heart disease: 0.11297748616645312\n",
      "Probability of Female to have Heart disease: 0.07022565149588841\n"
     ]
    }
   ],
   "source": [
    "female_with_heart_disease = len(df[(df['HeartDisease']=='Yes') & (df['Sex']=='Female')])\n",
    "num_female = len(df[df['Sex']=='Female'])\n",
    "male_with_heart_disease = len(df[(df['HeartDisease']=='Yes') & (df['Sex']=='Male')])\n",
    "num_male = len(df[df['Sex']=='Male'])\n",
    "print('Probability of Male to have Heart disease:', male_with_heart_disease/num_male)\n",
    "print('Probability of Female to have Heart disease:', female_with_heart_disease/num_female)"
   ]
  },
  {
   "cell_type": "code",
   "execution_count": 14,
   "id": "90a611fe",
   "metadata": {},
   "outputs": [
    {
     "data": {
      "text/plain": [
       "<matplotlib.legend.Legend at 0x29099535a60>"
      ]
     },
     "execution_count": 14,
     "metadata": {},
     "output_type": "execute_result"
    },
    {
     "data": {
      "image/png": "[encoded data removed]",
      "text/plain": [
       "<Figure size 1008x432 with 1 Axes>"
      ]
     },
     "metadata": {},
     "output_type": "display_data"
    }
   ],
   "source": [
    "fig, ax = plt.subplots(figsize = (14,6))\n",
    "\n",
    "ax.hist(df[df[\"HeartDisease\"]=='No'][\"Race\"], bins=15, alpha=0.8, color=\"Blue\", label=\"No HeartDisease\")\n",
    "ax.hist(df[df[\"HeartDisease\"]=='Yes'][\"Race\"], bins=15, alpha=1, color=\"Red\", label=\"HeartDisease\")\n",
    "\n",
    "ax.set_xlabel(\"Race\")\n",
    "ax.set_ylabel(\"Frequency\")\n",
    "\n",
    "ax.legend(bbox_to_anchor=(1.02, 1), loc=2, borderaxespad=0.)"
   ]
  },
  {
   "cell_type": "code",
   "execution_count": 15,
   "id": "d16df08f",
   "metadata": {},
   "outputs": [
    {
     "data": {
      "text/plain": [
       "<matplotlib.legend.Legend at 0x29099406f70>"
      ]
     },
     "execution_count": 15,
     "metadata": {},
     "output_type": "execute_result"
    },
    {
     "data": {
      "image/png": "[encoded data removed]",
      "text/plain": [
       "<Figure size 720x432 with 1 Axes>"
      ]
     },
     "metadata": {},
     "output_type": "display_data"
    }
   ],
   "source": [
    "fig, ax = plt.subplots(figsize = (10,6))\n",
    "\n",
    "ax.hist(df[df[\"HeartDisease\"]=='No'][\"GenHealth\"], bins=10, alpha=0.8, color=\"Blue\", label=\"No HeartDisease\")\n",
    "ax.hist(df[df[\"HeartDisease\"]=='Yes'][\"GenHealth\"], bins=10, alpha=1, color=\"Red\", label=\"HeartDisease\")\n",
    "\n",
    "ax.set_xlabel(\"GenHealth\")\n",
    "ax.set_ylabel(\"Frequency\")\n",
    "\n",
    "ax.legend(bbox_to_anchor=(1.02, 1), loc=2, borderaxespad=0.)"
   ]
  },
  {
   "cell_type": "code",
   "execution_count": 16,
   "id": "e76c8f14",
   "metadata": {},
   "outputs": [
    {
     "data": {
      "text/plain": [
       "<matplotlib.legend.Legend at 0x290994e2be0>"
      ]
     },
     "execution_count": 16,
     "metadata": {},
     "output_type": "execute_result"
    },
    {
     "data": {
      "image/png": "[encoded data removed]",
      "text/plain": [
       "<Figure size 720x432 with 1 Axes>"
      ]
     },
     "metadata": {},
     "output_type": "display_data"
    }
   ],
   "source": [
    "fig, ax = plt.subplots(figsize = (10,6))\n",
    "\n",
    "ax.hist(df[df[\"HeartDisease\"]=='No'][\"KidneyDisease\"], bins=3, alpha=0.8, color=\"Blue\", label=\"No HeartDisease\")\n",
    "ax.hist(df[df[\"HeartDisease\"]=='Yes'][\"KidneyDisease\"], bins=3, alpha=1, color=\"Red\", label=\"HeartDisease\")\n",
    "\n",
    "ax.set_xlabel(\"KidneyDisease\")\n",
    "ax.set_ylabel(\"Frequency\")\n",
    "\n",
    "ax.legend(bbox_to_anchor=(1.02, 1), loc=2, borderaxespad=0.)\n"
   ]
  },
  {
   "cell_type": "code",
   "execution_count": 17,
   "id": "860dbb4d",
   "metadata": {},
   "outputs": [
    {
     "data": {
      "text/plain": [
       "<matplotlib.legend.Legend at 0x2909957d640>"
      ]
     },
     "execution_count": 17,
     "metadata": {},
     "output_type": "execute_result"
    },
    {
     "data": {
      "image/png": "[encoded data removed]",
      "text/plain": [
       "<Figure size 720x432 with 1 Axes>"
      ]
     },
     "metadata": {},
     "output_type": "display_data"
    }
   ],
   "source": [
    "fig, ax = plt.subplots(figsize = (10,6))\n",
    "\n",
    "ax.hist(df[df[\"HeartDisease\"]=='No'][\"SkinCancer\"], bins=3, alpha=0.8, color=\"Blue\", label=\"No HeartDisease\")\n",
    "ax.hist(df[df[\"HeartDisease\"]=='Yes'][\"SkinCancer\"], bins=3, alpha=1, color=\"Red\", label=\"HeartDisease\")\n",
    "\n",
    "ax.set_xlabel(\"SkinCancer\")\n",
    "ax.set_ylabel(\"Frequency\")\n",
    "\n",
    "ax.legend(bbox_to_anchor=(1.02, 1), loc=2, borderaxespad=0.)"
   ]
  },
  {
   "cell_type": "code",
   "execution_count": 18,
   "id": "2beb33b3",
   "metadata": {},
   "outputs": [
    {
     "name": "stdout",
     "output_type": "stream",
     "text": [
      "<class 'pandas.core.frame.DataFrame'>\n",
      "Int64Index: 301717 entries, 0 to 319794\n",
      "Data columns (total 18 columns):\n",
      " #   Column            Non-Null Count   Dtype  \n",
      "---  ------            --------------   -----  \n",
      " 0   HeartDisease      301717 non-null  int32  \n",
      " 1   BMI               301717 non-null  float64\n",
      " 2   Smoking           301717 non-null  int32  \n",
      " 3   AlcoholDrinking   301717 non-null  int32  \n",
      " 4   Stroke            301717 non-null  int32  \n",
      " 5   PhysicalHealth    301717 non-null  int64  \n",
      " 6   MentalHealth      301717 non-null  int64  \n",
      " 7   DiffWalking       301717 non-null  int32  \n",
      " 8   Sex               301717 non-null  int32  \n",
      " 9   AgeCategory       301717 non-null  int32  \n",
      " 10  Race              301717 non-null  int32  \n",
      " 11  Diabetic          301717 non-null  int32  \n",
      " 12  PhysicalActivity  301717 non-null  int32  \n",
      " 13  GenHealth         301717 non-null  int32  \n",
      " 14  SleepTime         301717 non-null  int64  \n",
      " 15  Asthma            301717 non-null  int32  \n",
      " 16  KidneyDisease     301717 non-null  int32  \n",
      " 17  SkinCancer        301717 non-null  int32  \n",
      "dtypes: float64(1), int32(14), int64(3)\n",
      "memory usage: 27.6 MB\n"
     ]
    }
   ],
   "source": [
    "from sklearn.preprocessing import LabelEncoder\n",
    "enc=LabelEncoder()\n",
    "for x in df.columns:\n",
    "    if df[x].dtype=='object':\n",
    "        df[x]=enc.fit_transform(df[x])\n",
    "df.info()"
   ]
  },
  {
   "cell_type": "markdown",
   "id": "30403876",
   "metadata": {},
   "source": [
    "# Observation"
   ]
  },
  {
   "cell_type": "markdown",
   "id": "18c9f988",
   "metadata": {},
   "source": [
    "As we see by the visulisation above that Skin cancer and heart disease does not play a vital role in our data so for sorting the data i am dropping the values"
   ]
  },
  {
   "cell_type": "code",
   "execution_count": 19,
   "id": "919bf6ec",
   "metadata": {},
   "outputs": [
    {
     "name": "stdout",
     "output_type": "stream",
     "text": [
      "<class 'pandas.core.frame.DataFrame'>\n",
      "Int64Index: 301717 entries, 0 to 319794\n",
      "Data columns (total 17 columns):\n",
      " #   Column            Non-Null Count   Dtype  \n",
      "---  ------            --------------   -----  \n",
      " 0   HeartDisease      301717 non-null  int32  \n",
      " 1   BMI               301717 non-null  float64\n",
      " 2   Smoking           301717 non-null  int32  \n",
      " 3   AlcoholDrinking   301717 non-null  int32  \n",
      " 4   Stroke            301717 non-null  int32  \n",
      " 5   PhysicalHealth    301717 non-null  int64  \n",
      " 6   MentalHealth      301717 non-null  int64  \n",
      " 7   DiffWalking       301717 non-null  int32  \n",
      " 8   Sex               301717 non-null  int32  \n",
      " 9   AgeCategory       301717 non-null  int32  \n",
      " 10  Race              301717 non-null  int32  \n",
      " 11  Diabetic          301717 non-null  int32  \n",
      " 12  PhysicalActivity  301717 non-null  int32  \n",
      " 13  GenHealth         301717 non-null  int32  \n",
      " 14  SleepTime         301717 non-null  int64  \n",
      " 15  Asthma            301717 non-null  int32  \n",
      " 16  KidneyDisease     301717 non-null  int32  \n",
      "dtypes: float64(1), int32(13), int64(3)\n",
      "memory usage: 26.5 MB\n"
     ]
    }
   ],
   "source": [
    "df=df.drop(['SkinCancer'],axis=1)\n",
    "df.info()"
   ]
  },
  {
   "cell_type": "code",
   "execution_count": 20,
   "id": "b820f5af",
   "metadata": {},
   "outputs": [
    {
     "data": {
      "text/plain": [
       "<bound method NDFrame.describe of         HeartDisease    BMI  Smoking  AlcoholDrinking  Stroke  PhysicalHealth  \\\n",
       "0                  0  16.60        1                0       0               3   \n",
       "1                  0  20.34        0                0       1               0   \n",
       "2                  0  26.58        1                0       0              20   \n",
       "3                  0  24.21        0                0       0               0   \n",
       "4                  0  23.71        0                0       0              28   \n",
       "...              ...    ...      ...              ...     ...             ...   \n",
       "319790             1  27.41        1                0       0               7   \n",
       "319791             0  29.84        1                0       0               0   \n",
       "319792             0  24.24        0                0       0               0   \n",
       "319793             0  32.81        0                0       0               0   \n",
       "319794             0  46.56        0                0       0               0   \n",
       "\n",
       "        MentalHealth  DiffWalking  Sex  AgeCategory  Race  Diabetic  \\\n",
       "0                 30            0    0            7     5         2   \n",
       "1                  0            0    0           12     5         0   \n",
       "2                 30            0    1            9     5         2   \n",
       "3                  0            0    0           11     5         0   \n",
       "4                  0            1    0            4     5         0   \n",
       "...              ...          ...  ...          ...   ...       ...   \n",
       "319790             0            1    1            8     3         2   \n",
       "319791             0            0    1            3     3         0   \n",
       "319792             0            0    0            5     3         0   \n",
       "319793             0            0    0            1     3         0   \n",
       "319794             0            0    0           12     3         0   \n",
       "\n",
       "        PhysicalActivity  GenHealth  SleepTime  Asthma  KidneyDisease  \n",
       "0                      1          4          5       1              0  \n",
       "1                      1          4          7       0              0  \n",
       "2                      1          1          8       1              0  \n",
       "3                      0          2          6       0              0  \n",
       "4                      1          4          8       0              0  \n",
       "...                  ...        ...        ...     ...            ...  \n",
       "319790                 0          1          6       1              0  \n",
       "319791                 1          4          5       1              0  \n",
       "319792                 1          2          6       0              0  \n",
       "319793                 0          2         12       0              0  \n",
       "319794                 1          2          8       0              0  \n",
       "\n",
       "[301717 rows x 17 columns]>"
      ]
     },
     "execution_count": 20,
     "metadata": {},
     "output_type": "execute_result"
    }
   ],
   "source": [
    "df.describe\n"
   ]
  },
  {
   "cell_type": "code",
   "execution_count": 21,
   "id": "976315b3",
   "metadata": {},
   "outputs": [
    {
     "name": "stdout",
     "output_type": "stream",
     "text": [
      "<class 'pandas.core.frame.DataFrame'>\n",
      "Int64Index: 301717 entries, 0 to 319794\n",
      "Data columns (total 17 columns):\n",
      " #   Column            Non-Null Count   Dtype  \n",
      "---  ------            --------------   -----  \n",
      " 0   HeartDisease      301717 non-null  float64\n",
      " 1   BMI               301717 non-null  float64\n",
      " 2   Smoking           301717 non-null  float64\n",
      " 3   AlcoholDrinking   301717 non-null  float64\n",
      " 4   Stroke            301717 non-null  float64\n",
      " 5   PhysicalHealth    301717 non-null  float64\n",
      " 6   MentalHealth      301717 non-null  float64\n",
      " 7   DiffWalking       301717 non-null  float64\n",
      " 8   Sex               301717 non-null  float64\n",
      " 9   AgeCategory       301717 non-null  float64\n",
      " 10  Race              301717 non-null  float64\n",
      " 11  Diabetic          301717 non-null  float64\n",
      " 12  PhysicalActivity  301717 non-null  float64\n",
      " 13  GenHealth         301717 non-null  float64\n",
      " 14  SleepTime         301717 non-null  float64\n",
      " 15  Asthma            301717 non-null  float64\n",
      " 16  KidneyDisease     301717 non-null  float64\n",
      "dtypes: float64(17)\n",
      "memory usage: 41.4 MB\n"
     ]
    }
   ],
   "source": [
    " for x in df.columns:\n",
    "    df[x]=(df[x]-df[x].min())/(df[x].max()-df[x].min())\n",
    "df.info()"
   ]
  },
  {
   "cell_type": "markdown",
   "id": "f6334b55",
   "metadata": {},
   "source": [
    "# Using Machine Learning Algorithm"
   ]
  },
  {
   "cell_type": "code",
   "execution_count": 22,
   "id": "f418da61",
   "metadata": {},
   "outputs": [],
   "source": [
    "y=df['HeartDisease']\n",
    "x=df.drop(['HeartDisease'],axis=1)"
   ]
  },
  {
   "cell_type": "code",
   "execution_count": 23,
   "id": "5d102dbe",
   "metadata": {},
   "outputs": [
    {
     "name": "stdout",
     "output_type": "stream",
     "text": [
      "training data shape is :(211201, 16).\n",
      "training label shape is :(211201,).\n",
      "testing data shape is :(90516, 16).\n",
      "testing label shape is :(90516,).\n"
     ]
    }
   ],
   "source": [
    "from sklearn.model_selection import train_test_split\n",
    "\n",
    "X_train,X_test ,y_train, y_test = train_test_split(x,y,\n",
    "                                                   test_size=0.30,\n",
    "                                                   random_state=0,\n",
    "                                                  shuffle = True,\n",
    "                                                  stratify = y)\n",
    "\n",
    "print('training data shape is :{}.'.format(X_train.shape))\n",
    "print('training label shape is :{}.'.format(y_train.shape))\n",
    "print('testing data shape is :{}.'.format(X_test.shape))\n",
    "print('testing label shape is :{}.'.format(y_test.shape))"
   ]
  },
  {
   "cell_type": "code",
   "execution_count": 24,
   "id": "bdd2dfa0",
   "metadata": {},
   "outputs": [
    {
     "data": {
      "text/plain": [
       "LogisticRegression()"
      ]
     },
     "execution_count": 24,
     "metadata": {},
     "output_type": "execute_result"
    }
   ],
   "source": [
    "from sklearn.linear_model import LogisticRegression\n",
    "model1=LogisticRegression()\n",
    "model1.fit(X_train,y_train)"
   ]
  },
  {
   "cell_type": "code",
   "execution_count": 25,
   "id": "31e395af",
   "metadata": {},
   "outputs": [
    {
     "name": "stdout",
     "output_type": "stream",
     "text": [
      "confusion matrix\n",
      "[[81675   663]\n",
      " [ 7447   731]]\n",
      "0.9103081898286467\n",
      "0.9104025807592028\n",
      "Test set:90516\n",
      "Accuracy=91.04025807592028%\n"
     ]
    }
   ],
   "source": [
    "from sklearn.metrics import accuracy_score, confusion_matrix\n",
    "predictions= model1 .predict(X_test)\n",
    "percentage= model1.score(X_test,y_test)\n",
    "res=confusion_matrix(y_test,predictions)\n",
    "print(\"confusion matrix\")\n",
    "print(res)\n",
    "# check the accuracy on the training set\n",
    "print(model1.score(X_train, y_train))\n",
    "print(model1.score(X_test, y_test))\n",
    "print(f\"Test set:{len(X_test)}\")\n",
    "print(f\"Accuracy={percentage*100}%\")"
   ]
  },
  {
   "cell_type": "code",
   "execution_count": 26,
   "id": "958e9f82",
   "metadata": {},
   "outputs": [
    {
     "name": "stdout",
     "output_type": "stream",
     "text": [
      "confusion matrix\n",
      "[[81675   663]\n",
      " [ 7447   731]]\n",
      "Test set:90516\n",
      "Accuracy=91.04025807592028%\n"
     ]
    }
   ],
   "source": [
    "from sklearn.metrics import accuracy_score, confusion_matrix\n",
    "predictions= model1 .predict(X_test)\n",
    "percentage= model1.score(X_test,y_test)\n",
    "res=confusion_matrix(y_test,predictions)\n",
    "print(\"confusion matrix\")\n",
    "print(res)\n",
    "# check the accuracy on the training set\n",
    "\n",
    "print(f\"Test set:{len(X_test)}\")\n",
    "print(f\"Accuracy={percentage*100}%\")"
   ]
  },
  {
   "cell_type": "code",
   "execution_count": 27,
   "id": "96d7c32f",
   "metadata": {},
   "outputs": [
    {
     "data": {
      "text/plain": [
       "DecisionTreeClassifier()"
      ]
     },
     "execution_count": 27,
     "metadata": {},
     "output_type": "execute_result"
    }
   ],
   "source": [
    "from sklearn.tree import DecisionTreeClassifier\n",
    "model = DecisionTreeClassifier()\n",
    "model.fit(X_train, y_train)"
   ]
  },
  {
   "cell_type": "code",
   "execution_count": 28,
   "id": "57222b08",
   "metadata": {},
   "outputs": [
    {
     "data": {
      "text/plain": [
       "0.854788103760661"
      ]
     },
     "execution_count": 28,
     "metadata": {},
     "output_type": "execute_result"
    }
   ],
   "source": [
    "model.score(X_test,y_test)"
   ]
  },
  {
   "cell_type": "code",
   "execution_count": 29,
   "id": "d93450af",
   "metadata": {},
   "outputs": [],
   "source": [
    "from sklearn.metrics import confusion_matrix, accuracy_score, precision_score, f1_score, recall_score\n",
    "\n",
    "y_pred = model.predict(X_test)"
   ]
  },
  {
   "cell_type": "code",
   "execution_count": 30,
   "id": "606ecb36",
   "metadata": {},
   "outputs": [
    {
     "data": {
      "text/plain": [
       "array([[75380,  6958],\n",
       "       [ 6186,  1992]], dtype=int64)"
      ]
     },
     "execution_count": 30,
     "metadata": {},
     "output_type": "execute_result"
    }
   ],
   "source": [
    "matrix = confusion_matrix(y_test,y_pred)\n",
    "matrix"
   ]
  },
  {
   "cell_type": "code",
   "execution_count": 31,
   "id": "e533e7db",
   "metadata": {},
   "outputs": [
    {
     "data": {
      "text/plain": [
       "<AxesSubplot:>"
      ]
     },
     "execution_count": 31,
     "metadata": {},
     "output_type": "execute_result"
    },
    {
     "data": {
      "image/png": "[encoded data removed]",
      "text/plain": [
       "<Figure size 1152x576 with 2 Axes>"
      ]
     },
     "metadata": {},
     "output_type": "display_data"
    }
   ],
   "source": [
    "sns.heatmap(matrix, annot = True)"
   ]
  },
  {
   "cell_type": "code",
   "execution_count": 32,
   "id": "b37d9039",
   "metadata": {},
   "outputs": [
    {
     "name": "stdout",
     "output_type": "stream",
     "text": [
      "Accuracy Score :  0.854788103760661\n",
      "Precision Score :  0.22256983240223463\n",
      "Recall Score :  0.24358033749082905\n",
      "F1 Score :  0.23260158804297057\n"
     ]
    }
   ],
   "source": [
    "print(\"Accuracy Score : \", accuracy_score(y_test, y_pred))\n",
    "print(\"Precision Score : \", precision_score(y_test, y_pred))\n",
    "print(\"Recall Score : \", recall_score(y_test, y_pred))\n",
    "print(\"F1 Score : \", f1_score(y_test, y_pred))"
   ]
  },
  {
   "cell_type": "code",
   "execution_count": null,
   "id": "f04e0649",
   "metadata": {},
   "outputs": [],
   "source": []
  },
  {
   "cell_type": "code",
   "execution_count": 33,
   "id": "207b8d56",
   "metadata": {},
   "outputs": [],
   "source": [
    "from sklearn.model_selection import GridSearchCV\n",
    "from sklearn.ensemble import RandomForestClassifier"
   ]
  },
  {
   "cell_type": "code",
   "execution_count": 34,
   "id": "a6ac6466",
   "metadata": {},
   "outputs": [],
   "source": [
    "param_grid = {\n",
    "    'max_depth':[33, 36, 39],\n",
    "    'n_estimators':[250,260,270,280,290,300,310,320,330,340],\n",
    "    'min_samples_split': [5,8,10,15,20,25,30,35,40,50,60,70]\n",
    "}"
   ]
  },
  {
   "cell_type": "code",
   "execution_count": 35,
   "id": "b355ab77",
   "metadata": {},
   "outputs": [],
   "source": [
    "\n",
    "paran = {'max_depth': 39, 'min_samples_split': 5, 'n_estimators': 330}\n",
    "rfc_model = RandomForestClassifier(random_state=42, **paran)"
   ]
  },
  {
   "cell_type": "code",
   "execution_count": 36,
   "id": "df4b6b7b",
   "metadata": {},
   "outputs": [
    {
     "name": "stdout",
     "output_type": "stream",
     "text": [
      "Random Forest Model metrics\n",
      "accuracy_score:   0.854788103760661\n",
      "precision_score:  0.22256983240223463\n",
      "recall:           0.24358033749082905\n",
      "F1:               0.23260158804297057\n"
     ]
    }
   ],
   "source": [
    "print('Random Forest Model metrics')\n",
    "print('accuracy_score:  ', accuracy_score(y_pred=y_pred,y_true=y_test.values.ravel()))\n",
    "print('precision_score: ', precision_score(y_pred=y_pred,y_true=y_test.values.ravel()))\n",
    "print('recall:          ', recall_score(y_pred=y_pred,y_true=y_test.values.ravel()))\n",
    "print('F1:              ', f1_score(y_pred=y_pred,y_true=y_test.values.ravel()))\n"
   ]
  },
  {
   "cell_type": "markdown",
   "id": "57a5bd9b",
   "metadata": {},
   "source": [
    "# Conclusion"
   ]
  },
  {
   "cell_type": "markdown",
   "id": "40466bb1",
   "metadata": {},
   "source": [
    "By sorting the data and my applying machine learning algorithm we can see that the highest accuracy that we were getting in our model is from Logistic Regression so we accept that model"
   ]
  }
 ],
 "metadata": {
  "kernelspec": {
   "display_name": "Python 3 (ipykernel)",
   "language": "python",
   "name": "python3"
  },
  "language_info": {
   "codemirror_mode": {
    "name": "ipython",
    "version": 3
   },
   "file_extension": ".py",
   "mimetype": "text/x-python",
   "name": "python",
   "nbconvert_exporter": "python",
   "pygments_lexer": "ipython3",
   "version": "3.9.12"
  }
 },
 "nbformat": 4,
 "nbformat_minor": 5
}
